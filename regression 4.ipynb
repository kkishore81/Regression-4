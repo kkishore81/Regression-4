{
 "cells": [
  {
   "cell_type": "code",
   "execution_count": 1,
   "id": "12c43070-3e4b-4c6f-b292-1c3e58ac1b54",
   "metadata": {},
   "outputs": [],
   "source": [
    "#Q1. What is Lasso Regression, and how does it differ from other regression techniques?"
   ]
  },
  {
   "cell_type": "code",
   "execution_count": null,
   "id": "67c9d53a-db31-4dbe-9297-7eee63849aa4",
   "metadata": {},
   "outputs": [],
   "source": [
    "#Lasso Regression is a linear regression technique that adds a penalty term to the ordinary least squares (OLS) cost function, specifically the L1 regularization term. \n",
    "#It differs from other regression techniques like Ridge Regression and #Linear Regression by encouraging sparsity in the model, meaning it tends to set some coefficients\n",
    "#to exactly zero, effectively performing feature selection."
   ]
  },
  {
   "cell_type": "code",
   "execution_count": null,
   "id": "e0b11fe1-e91b-4a37-a7cf-be56b46a9e64",
   "metadata": {},
   "outputs": [],
   "source": [
    "#Q2. What is the main advantage of using Lasso Regression in feature selection?"
   ]
  },
  {
   "cell_type": "code",
   "execution_count": null,
   "id": "1ea8d1b8-6045-49b7-a1af-d5c46bdc6d58",
   "metadata": {},
   "outputs": [],
   "source": [
    "#The main advantage of Lasso Regression in feature selection is that it automatically identifies and selects a subset of the most important\n",
    "#features by setting the coefficients of less important features to zero.\n",
    "#This simplifies the model and can improve its interpretability."
   ]
  },
  {
   "cell_type": "code",
   "execution_count": null,
   "id": "ab8262a2-9222-4b6b-aea0-c72573a6e529",
   "metadata": {},
   "outputs": [],
   "source": [
    "#Q3. How do you interpret the coefficients of a Lasso Regression model?"
   ]
  },
  {
   "cell_type": "code",
   "execution_count": null,
   "id": "108c7789-4101-4328-873b-5e673f3dd0c9",
   "metadata": {},
   "outputs": [],
   "source": [
    "#Coefficients in Lasso Regression can be interpreted by their magnitude and sign. A non-zero coefficient signifies the importance of a feature, \n",
    "#and the sign indicates the direction of the relationship with the target variable. Larger absolute values suggest stronger impact."
   ]
  },
  {
   "cell_type": "code",
   "execution_count": null,
   "id": "0b470eea-92d2-45f3-8103-92773378e905",
   "metadata": {},
   "outputs": [],
   "source": [
    "# Q4 What are the tuning parameters that can be adjusted in Lasso Regression, and how do they affect the model's performance?"
   ]
  },
  {
   "cell_type": "code",
   "execution_count": null,
   "id": "d2fe2c06-d52c-4886-b34e-63a9549c50cd",
   "metadata": {},
   "outputs": [],
   "source": [
    "#In Lasso Regression, the tuning parameter is lambda (λ). Increasing λ increases the regularization strength, causing more coefficients to be pushed towards zero.\n",
    "#Lower λ values result in models closer to OLS. The choice of λ affects model complexity and, ultimately, performance, so it needs to be carefully tuned through \n",
    "#techniques like cross-validation."
   ]
  },
  {
   "cell_type": "code",
   "execution_count": null,
   "id": "ddacda8f-e37e-4c8b-b0ed-506ef51980f5",
   "metadata": {},
   "outputs": [],
   "source": [
    "#Q5. Can Lasso Regression be used for non-linear regression problems? If yes, how?"
   ]
  },
  {
   "cell_type": "code",
   "execution_count": null,
   "id": "c70dd2f8-7158-453f-9011-30c11979119c",
   "metadata": {},
   "outputs": [],
   "source": [
    "# Lasso Regression is primarily designed for linear regression problems. \n",
    " #However, it can be adapted for non-linear regression by incorporating non-linear transformations of features or using polynomial features alongside Lasso Regression."
   ]
  },
  {
   "cell_type": "code",
   "execution_count": null,
   "id": "13fbcd3f-427e-4ccc-99e1-7dbc044e4121",
   "metadata": {},
   "outputs": [],
   "source": [
    "#Q6. What is the difference between Ridge Regression and Lasso Regression?"
   ]
  },
  {
   "cell_type": "code",
   "execution_count": null,
   "id": "61613030-a2e5-468a-8bd6-9bc0106654b2",
   "metadata": {},
   "outputs": [],
   "source": [
    "#Ridge Regression and Lasso Regression both add regularization terms to the linear regression cost function. \n",
    "#The key difference is the type of regularization. Ridge uses L2 regularization (sum of squared coefficients), \n",
    "#which encourages small coefficients but doesn't set them to zero. Lasso uses L1 regularization (sum of absolute coefficients), \n",
    "#promoting sparsity by setting some coefficients to zero."
   ]
  },
  {
   "cell_type": "code",
   "execution_count": null,
   "id": "25890fd2-0d7f-4fb8-a733-8e45a6be9019",
   "metadata": {},
   "outputs": [],
   "source": [
    "#Q7. Can Lasso Regression handle multicollinearity in the input features? If yes, how?"
   ]
  },
  {
   "cell_type": "code",
   "execution_count": null,
   "id": "8c6c6094-7daf-4ef1-bfce-f9e0fb3d5d92",
   "metadata": {},
   "outputs": [],
   "source": [
    "#Lasso Regression can handle multicollinearity to some extent. It tends to select one feature from a group of highly correlated features while setting the coefficients of\n",
    "#the others to zero. However, it's not a perfect solution, and care should be taken to interpret the results when multicollinearity is present."
   ]
  },
  {
   "cell_type": "code",
   "execution_count": null,
   "id": "42e43920-9be4-42eb-b450-e1507e87d4b5",
   "metadata": {},
   "outputs": [],
   "source": [
    "Q8 #How do you choose the optimal value of the regularization parameter (lambda) in Lasso Regression?"
   ]
  },
  {
   "cell_type": "code",
   "execution_count": null,
   "id": "38bc7986-e46a-43fe-88df-afc9da064d8d",
   "metadata": {},
   "outputs": [],
   "source": [
    "#The optimal value of the regularization parameter λ in Lasso Regression is typically chosen through techniques like cross-validation. \n",
    "#It involves training the model with different λ values and selecting the one that results in the best performance metric, such as mean squared error or R-squared,\n",
    "#on a validation dataset."
   ]
  },
  {
   "cell_type": "code",
   "execution_count": null,
   "id": "6f890b3f-b4bb-41a5-90c7-37dbed9cdf14",
   "metadata": {},
   "outputs": [],
   "source": []
  }
 ],
 "metadata": {
  "kernelspec": {
   "display_name": "Python 3 (ipykernel)",
   "language": "python",
   "name": "python3"
  },
  "language_info": {
   "codemirror_mode": {
    "name": "ipython",
    "version": 3
   },
   "file_extension": ".py",
   "mimetype": "text/x-python",
   "name": "python",
   "nbconvert_exporter": "python",
   "pygments_lexer": "ipython3",
   "version": "3.10.8"
  }
 },
 "nbformat": 4,
 "nbformat_minor": 5
}
